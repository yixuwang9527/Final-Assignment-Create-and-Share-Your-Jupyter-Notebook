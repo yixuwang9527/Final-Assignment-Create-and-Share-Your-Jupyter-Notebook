{
 "cells": [
  {
   "cell_type": "markdown",
   "id": "b453d360",
   "metadata": {},
   "source": [
    "# Data Science Tools and Ecosystem"
   ]
  },
  {
   "cell_type": "markdown",
   "id": "1e138e6a",
   "metadata": {},
   "source": [
    "In this notebook, Data Science Tools and Ecosystem are summarized."
   ]
  },
  {
   "cell_type": "markdown",
   "id": "8a4701f9",
   "metadata": {},
   "source": [
    "Some of the popular languages that Data Scientists use are:\n",
    "1. Python\n",
    "2. R\n",
    "3. SQL"
   ]
  },
  {
   "cell_type": "markdown",
   "id": "9652ec67",
   "metadata": {},
   "source": [
    "Some of the commonly used libraries used by Data Scientists include:\n",
    "1. NumPy\n",
    "2. scikit-learn\n",
    "3. TensorFlow"
   ]
  },
  {
   "cell_type": "markdown",
   "id": "38ae431c",
   "metadata": {},
   "source": [
    "| Data Science Tools |\n",
    "| ---------------  |\n",
    "|Jupyter Notebooks|\n",
    "|RStudio|\n",
    "|Visual Studio Code|"
   ]
  },
  {
   "cell_type": "markdown",
   "id": "87ff71b2",
   "metadata": {},
   "source": [
    "### Below are a few examples of evaluating arithmetic expressions in Python"
   ]
  },
  {
   "cell_type": "code",
   "execution_count": 2,
   "id": "ddee137f",
   "metadata": {},
   "outputs": [
    {
     "data": {
      "text/plain": [
       "17"
      ]
     },
     "execution_count": 2,
     "metadata": {},
     "output_type": "execute_result"
    }
   ],
   "source": [
    "#  This a simple arithmetic expression to mutiply then add integers\n",
    "(3*4)+5"
   ]
  },
  {
   "cell_type": "code",
   "execution_count": 3,
   "id": "a9167cbf",
   "metadata": {},
   "outputs": [
    {
     "data": {
      "text/plain": [
       "3.3333333333333335"
      ]
     },
     "execution_count": 3,
     "metadata": {},
     "output_type": "execute_result"
    }
   ],
   "source": [
    "# this will convert 200 minutes to hours by diving by 60\n",
    "200 / 60"
   ]
  },
  {
   "cell_type": "markdown",
   "id": "88933c2f",
   "metadata": {},
   "source": [
    "In this notebook, Data Science Tools and Ecosystem are summarized.\n",
    "\n",
    "**Objectives:**\n",
    "* Python\n",
    "* R\n",
    "* SQL"
   ]
  },
  {
   "cell_type": "markdown",
   "id": "5f5354cf",
   "metadata": {},
   "source": [
    "## Author\n",
    "Yixu Wang"
   ]
  },
  {
   "cell_type": "code",
   "execution_count": null,
   "id": "614c55c7",
   "metadata": {},
   "outputs": [],
   "source": []
  }
 ],
 "metadata": {
  "kernelspec": {
   "display_name": "Python 3 (ipykernel)",
   "language": "python",
   "name": "python3"
  },
  "language_info": {
   "codemirror_mode": {
    "name": "ipython",
    "version": 3
   },
   "file_extension": ".py",
   "mimetype": "text/x-python",
   "name": "python",
   "nbconvert_exporter": "python",
   "pygments_lexer": "ipython3",
   "version": "3.9.11"
  }
 },
 "nbformat": 4,
 "nbformat_minor": 5
}
